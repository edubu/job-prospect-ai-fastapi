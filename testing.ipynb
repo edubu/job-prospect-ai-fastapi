{
 "cells": [
  {
   "cell_type": "code",
   "execution_count": 12,
   "metadata": {},
   "outputs": [],
   "source": [
    "import pickle"
   ]
  },
  {
   "cell_type": "code",
   "execution_count": 17,
   "metadata": {},
   "outputs": [
    {
     "data": {
      "text/plain": [
       "'Strategic HR teams use Airtable to create high performing teams\\nStreamline new hire onboarding\\nKeep your team aligned throughout the hiring process\\nCreate a single source of truth for your HR policies\\nGet a full picture of your organization\\nBring all the data you need into one place\\nManage your most important HR workflows\\nSpend less time coordinating, and more time growing your team\\nApplicant tracker\\nEmployee Onboarding\\nHR Knowledge Base\\nCompany Org Chart\\nTransform your workflows with the power of AI\\nManage recruiting pipeline, streamline your onboarding processes, and keep your team aligned as your company grows.\\nCreate a standard process for onboarding to ensure new employees are set up for success - and easily adapt your process as your org matures.\\nEasily collaborate on hiring plans, interview needs, and more to attract and hire top talent.\\nEasily organize and update all your HR info and resources in one place, so your team can find what they need when they need it.\\nVisualize your org chart and people data to keep your entire company connected and adapt quickly as your team grows and changes.\\nIntegrate with existing tools, add apps to gain valuable insights, and write your own scripts to further customize your workflow.\\nAnalytics\\nCustomer Support\\nCRM\\nOrchestrate everything from your candidate pipeline to your new hire onboarding from Airtable. Get started with pre-made templates, and customize them to fit your exact needs.\\nApplicant tracker\\nUse template\\nEmployee Onboarding\\nUse template\\nHR Knowledge Base\\nUse template\\nCompany Org Chart\\nUse template\\nPlatform\\nSolutions\\nResources\\nPricing\\nContact Sales\\nPlatform\\nPlatform Overview\\nIntegrations\\nExtensions\\nApp Building\\nAI\\nConnected Data\\nSee more\\nSolutions\\nProduct\\nMarketing\\nOperations\\nHuman Resources\\nSales\\nFinance\\nSee more\\nLearn\\nLearning Center\\nEvents\\nVideo Center\\nDemos\\nCustomer Stories\\nWebinars\\nSee more\\nResources\\nPartners\\nServices\\nDevelopers\\nCommunity\\nTemplates\\nAirtable Universe\\nSee more\\nCompany\\nAbout\\nCareers\\nPOPULAR\\nBlog\\nStatus\\nNewsroom\\nTry Airtable for free\\nSecurity\\nAPI\\nSitemap\\nPrivacy\\nTerms\\nDo Not Sell/Share My Info'"
      ]
     },
     "execution_count": 17,
     "metadata": {},
     "output_type": "execute_result"
    }
   ],
   "source": [
    "def get_pages(filepath):\n",
    "    with open(filepath, 'rb') as f:\n",
    "        return pickle.load(f)\n",
    "get_pages('test_data/airtable_content.pickle')[0].bodyContent"
   ]
  },
  {
   "cell_type": "code",
   "execution_count": 7,
   "metadata": {},
   "outputs": [],
   "source": [
    "from typing import List\n",
    "\n",
    "from config import OPENAI_API_KEY\n",
    "from langchain.chains import LLMChain\n",
    "from langchain.chat_models import ChatOpenAI\n",
    "from langchain.output_parsers import PydanticOutputParser\n",
    "from langchain.prompts import PromptTemplate\n",
    "from langchain.prompts.chat import (\n",
    "    AIMessagePromptTemplate,\n",
    "    ChatPromptTemplate,\n",
    "    HumanMessagePromptTemplate,\n",
    "    SystemMessagePromptTemplate,\n",
    ")\n",
    "from langchain.pydantic_v1 import BaseModel, Field, validator"
   ]
  },
  {
   "cell_type": "code",
   "execution_count": 8,
   "metadata": {},
   "outputs": [],
   "source": [
    "# Output data structure\n",
    "class PageSummary(BaseModel):\n",
    "    summary: str = Field(description=\"The summary of the page in 2-3 paragraphs\")\n",
    "    sections: List[str] = Field(description=\"The sections that this page is useful for\")\n"
   ]
  },
  {
   "cell_type": "code",
   "execution_count": 9,
   "metadata": {},
   "outputs": [],
   "source": [
    "# output parser\n",
    "parser = PydanticOutputParser(pydantic_object=PageSummary)"
   ]
  },
  {
   "cell_type": "code",
   "execution_count": 10,
   "metadata": {},
   "outputs": [],
   "source": [
    "# Prompt Templates\n",
    "SUMMARIZE_SYSTEM_TEMPLATE = \"You are a page summarizer assitant. You take text extracted from a web page and summarize the information on the web page. You also decide which sections of company summary this page will be useful for.\"\n",
    "SUMMARIZE_HUMAN_TEMPLATE = \"\"\"\\\n",
    "You are a text summarization bot.\n",
    "Below is the text scraped from ${page_url}.\n",
    "{page_text}\n",
    "\n",
    "Summarize this text to fit within 2 paragraphs. Summarize the details that are most important based upon the url. \n",
    "As Examples:\n",
    "- if you are summarizing a url of https://epic.com/solutions/eletronic-health-records, your summary will be explaining the solution of electronic health records that the company epic provides.\n",
    "- if you are summarizing a url of https://www.athenahealth.com/careers/locations, your summary will include a bulleted list of the locations that the company athenahealth has offices in.\n",
    "- if you are summarizing a url of https://www.athenahealth.com/about/who-we-are, your summary will include facts and details about the company athenhealth. Such as when it was founded, their culture, etc.\n",
    "\n",
    "In addition you should decide which sections of company summary this page will be useful for.\n",
    "Choose from the following sections:\n",
    "- Company Summary\n",
    "- Company History\n",
    "- Products and Services\n",
    "- Business Model\n",
    "- Target Audience\n",
    "- Key Competitors\n",
    "- Contact Information and Company Details\\n\n",
    "{format_instructions}\\n\n",
    "\"\"\"\n",
    "\n",
    "# Prompts\n",
    "system_prompt_template = SystemMessagePromptTemplate.from_template(\n",
    "    SUMMARIZE_SYSTEM_TEMPLATE\n",
    ")\n",
    "human_prompt_template_original = PromptTemplate(\n",
    "    template=SUMMARIZE_HUMAN_TEMPLATE,\n",
    "    input_variables=[\"page_url\", \"page_text\"],\n",
    "    partial_variables={\"format_instructions\": parser.get_format_instructions()},\n",
    ")\n",
    "human_prompt_template = HumanMessagePromptTemplate(\n",
    "    prompt=human_prompt_template_original\n",
    ")\n",
    "chat_prompt = ChatPromptTemplate.from_messages(\n",
    "    [system_prompt_template, human_prompt_template]\n",
    ")"
   ]
  },
  {
   "cell_type": "code",
   "execution_count": 13,
   "metadata": {},
   "outputs": [],
   "source": [
    "# LlMs\n",
    "llm = ChatOpenAI(\n",
    "    openai_api_key=OPENAI_API_KEY, model_name=\"gpt-3.5-turbo-16k\", temperature=0.3\n",
    ")\n",
    "\n",
    "# Chains\n",
    "summarize_chain = LLMChain(llm=llm, prompt=chat_prompt, output_parser=parser)"
   ]
  },
  {
   "cell_type": "code",
   "execution_count": 18,
   "metadata": {},
   "outputs": [
    {
     "data": {
      "text/plain": [
       "PageSummary(summary='Airtable is a platform that allows users to build apps for various workflows. It offers integrations, AI capabilities, and customizable workflows. The platform aims to connect different parts of work and enable teams to work faster and more confidently. Airtable is used by over 450,000 organizations and has been praised for its ability to increase productivity.', sections=['Company Summary', 'Products and Services', 'Business Model', 'Target Audience'])"
      ]
     },
     "execution_count": 18,
     "metadata": {},
     "output_type": "execute_result"
    }
   ],
   "source": [
    "pages = get_pages('test_data/airtable_content.pickle')\n",
    "mainPage = pages[-1]\n",
    "\n",
    "mainPageSummary = summarize_chain.run(page_url=mainPage.url, page_text=mainPage.bodyContent)\n",
    "mainPageSummary"
   ]
  },
  {
   "cell_type": "code",
   "execution_count": 20,
   "metadata": {},
   "outputs": [
    {
     "data": {
      "text/plain": [
       "'Airtable is a platform that allows users to build apps for various workflows. It offers integrations, AI capabilities, and customizable workflows. The platform aims to connect different parts of work and enable teams to work faster and more confidently. Airtable is used by over 450,000 organizations and has been praised for its ability to increase productivity.'"
      ]
     },
     "execution_count": 20,
     "metadata": {},
     "output_type": "execute_result"
    }
   ],
   "source": [
    "mainPageSummary.summary"
   ]
  },
  {
   "cell_type": "code",
   "execution_count": 29,
   "metadata": {},
   "outputs": [
    {
     "data": {
      "text/plain": [
       "\"<br>Airtable is a platform that enables teams to create apps on top of shared data and power their workflows. The company was founded in 2013 and has offices in six locations around the world. Airtable has been trusted by the world's largest organizations and has received over $1.36 billion in funding. They have won several awards, including Forbes Cloud 100 and CNBC Disruptor 50. The leadership team includes Howie Liu as CEO, Andrew Ofstad as the voice of the customer, Emmett Nicholas as the senior engineering leader, Archana Agrawal as the head of marketing, and Ambereen Toubassy as the leader of finance and legal teams. Airtable serves over 450,000 organizations globally with a team of 900 employees. Airtable offers a range of pricing plans to meet the needs of different organizations. The plans include Free, Team, Business, and Enterprise. The Free plan includes basic features, while the higher-tier plans offer additional features and capabilities. Airtable's pricing is based on a per-user, per-month model, with discounts available for annual billing. The Business and Enterprise plans have scale pricing, which means the cost per user decreases as the number of users increases. Airtable also offers a free trial for the higher-tier plans. The pricing page provides answers to frequently asked questions about Airtable's pricing, payment options, usage limits, and legacy Enterprise plan features. Airtable is a platform that allows users to build apps for various workflows. It offers intuitive and simple app-building capabilities, making it accessible to users with different levels of technical expertise. With Airtable, users can integrate critical workflows and measure their results. The platform also provides AI components that enable users to transform their workflows and work faster and more confidently. Airtable aims to connect every part of a user's work and eliminate silos. It offers solutions for various industries, and customers have achieved amazing outcomes using the platform. Airtable provides a range of resources, including studies, blogs, and webinars, to help users stay ahead of trends and learn best practices.<br><br>Airtable is a platform that enables teams to create apps on top of shared data and power their workflows. The company was founded in 2013 and has offices in six locations around the world. Airtable has been trusted by the world's largest organizations and has received over $1.36 billion in funding. They have won several awards, including Forbes Cloud 100 and CNBC Disruptor 50. The leadership team includes Howie Liu as CEO, Andrew Ofstad as the voice of the customer, Emmett Nicholas as the senior engineering leader, Archana Agrawal as the head of marketing, and Ambereen Toubassy as the leader of finance and legal teams. Airtable serves over 450,000 organizations globally with a team of 900 employees.<br><br>Airtable offers a range of products and services that cater to different teams and departments within organizations. Here is a detailed overview of the various solutions provided by Airtable:<br><br><br><br>1. Finance: Airtable helps finance teams streamline their workflows and processes. It offers features such as real-time expense and budget tracking, automated financial reporting, and integration with existing tools. The platform also utilizes AI to improve workflows and offers pre-made templates for budget tracking, expense tracking, invoicing, and fundraising. Airtable is suitable for various industries and departments, including finance, marketing, operations, human resources, and sales.<br><br><br><br>2. Operations: Airtable helps operations teams streamline their workflows and make data-driven decisions. With Airtable, teams can visualize important data, streamline ordering and fulfillment, and keep initiatives on track. The platform allows users to create real-time dashboards, automate processes, and manage inventory, vendors, OKRs, and contracts. Airtable integrates with existing tech stacks and offers pre-built apps and customizable templates. The platform is used by companies like Autodesk, World Central Kitchen, and Hungryroot to empower innovation and deliver on their promises.<br><br><br><br>3. Product: Airtable provides a flexible tool for product teams. It offers features that help product teams centralize and analyze feedback, plan and prioritize as an organization, build a living roadmap, and bring all the data they need into one place. The platform also offers customizable views, executive dashboards, and the power of AI to transform workflows. Airtable is used by over 450,000 organizations, including 80% of the Fortune 100, and has received a total funding of $1.36 billion to date.<br><br><br><br>4. Content Operations: Airtable helps teams master their content operations and deliver high-quality work at scale. It provides a centralized place to plan, review, distribute, and track assets. With Airtable, teams can stay aligned around real-time changes and ensure everyone has accurate information. The platform enables teams to proactively spot project risks, adapt to changing business needs, and take immediate action to meet deadlines. Additionally, Airtable uses real-time data to automatically generate reports and status readouts, providing comprehensive insights for decision-making.<br><br><br><br>5. Marketing: Airtable helps marketing teams redefine their strategy and planning, drive airtight timelines and production, maximize ROI from shared marketing investments, and connect marketing work with impact. With Airtable, marketing teams can centralize their data and insights, track cross-channel campaigns in real-time, and work more efficiently by creating shared repositories of vendors, assets, inventory, and more. The platform also offers integrations and charting to connect operational data and performance metrics, as well as AI-powered features to transform workflows and drive results.<br><br><br><br>6. Sales: Airtable provides solutions for customer-facing teams to collaborate, standardize workflows, and save time on repeatable processes. It offers solutions for sales CRM, sales pipeline management, sales asset management, and customer success management. With Airtable, teams can keep sales and account management in sync, break down silos, and create a cohesive customer experience. The platform allows users to organize everything from sales pipeline to customer onboarding, and offers pre-made templates that can be customized to fit specific needs. Airtable also provides integrations with existing tools, extensions, and the ability to build custom apps and automations.<br><br><br><br>7. HR: Airtable helps strategic HR teams streamline their processes and create high-performing teams. It offers features such as new hire onboarding, HR policy management, organization chart visualization, and AI-powered workflow management. With Airtable, HR teams can easily manage their recruiting pipeline, onboard new employees, and keep their team aligned as the company grows. The platform integrates with existing tools, allows for customization, and provides valuable insights through analytics and extensions.<br><br><br><br>In addition to these specific solutions, Airtable also offers a platform that enables teams to create apps on top of shared data and power their workflows. The platform provides intuitive and simple app-building capabilities, making it accessible to users with different levels of technical expertise. Airtable aims to connect every part of a user's work and eliminate silos. It offers solutions for various industries, and customers have achieved amazing outcomes using the platform. Airtable provides a range of resources, including studies, blogs, and webinars, to help users stay ahead of trends and learn best practices.<br><br>## Business Model<br><br>Airtable is a platform that offers a range of solutions to help streamline workflows and processes for various teams and departments. The company's business model revolves around providing a flexible and customizable platform that can be tailored to meet the specific needs of different industries and functions. Here are the key aspects of Airtable's business model:<br><br>- **Platform**: Airtable provides a cloud-based platform that allows teams to create apps on top of shared data. This platform serves as a central hub for teams to collaborate, manage projects, and automate processes.<br><br>- **Workflow Streamlining**: Airtable's platform is designed to help teams streamline their workflows and make data-driven decisions. It offers features such as real-time dashboards, automated processes, and integration with existing tools. This enables teams to visualize important data, automate repetitive tasks, and keep initiatives on track.<br><br>- **Customization**: One of the key strengths of Airtable's business model is its flexibility and customization options. The platform allows users to create custom apps, templates, and workflows that fit their specific needs. This enables teams to adapt the platform to their unique requirements and processes.<br><br>- **Integration**: Airtable integrates with existing tech stacks and tools, allowing teams to leverage their current systems and workflows. This integration capability ensures that teams can seamlessly incorporate Airtable into their existing processes without disrupting their operations.<br><br>- **Industry and Department Focus**: Airtable caters to various industries and departments, including finance, operations, sales, and HR. The platform offers pre-made templates and solutions tailored to the specific needs of these industries and functions. This industry and department focus allows Airtable to provide targeted solutions that address the pain points and challenges faced by different teams.<br><br>- **Customer Base**: Airtable serves over 450,000 organizations globally, including some of the world's largest companies. The company's customer base includes organizations from a wide range of industries, such as technology, finance, healthcare, and retail. This diverse customer base demonstrates the broad applicability of Airtable's platform across different sectors.<br><br>- **Revenue Streams**: Airtable generates revenue through a subscription-based model. The company offers different pricing plans based on the size and needs of the organization. These plans provide access to various features and functionalities, allowing customers to choose the option that best suits their requirements.<br><br>Overall, Airtable's business model revolves around providing a flexible and customizable platform that helps teams streamline their workflows, make data-driven decisions, and collaborate effectively. The company's focus on customization, integration, and industry-specific solutions sets it apart in the market and enables it to serve a diverse range of customers.<br><br>Airtable is a platform that enables teams to create apps on top of shared data and power their workflows. They help organizations achieve their goals and move with agility. The company was founded in 2013 and has offices in six locations around the world. Airtable has been trusted by the world's largest organizations and has received over $1.36 billion in funding. They have won several awards, including Forbes Cloud 100 and CNBC Disruptor 50. The leadership team includes Howie Liu as CEO, Andrew Ofstad as the voice of the customer, Emmett Nicholas as the senior engineering leader, Archana Agrawal as the head of marketing, and Ambereen Toubassy as the leader of finance and legal teams. Airtable serves over 450,000 organizations globally with a team of 900 employees.<br><br>Airtable's Key Competitors:<br><br>- Notion: Notion is a platform that allows teams to collaborate, organize, and manage their work. It offers features such as note-taking, task management, and project tracking. Notion is known for its flexibility and customizable interface.<br>- Asana: Asana is a project management tool that helps teams organize, track, and manage their work. It offers features such as task management, project timelines, and team collaboration. Asana is popular for its user-friendly interface and integrations with other tools.<br>- Trello: Trello is a visual collaboration tool that helps teams organize and prioritize their work. It uses boards, lists, and cards to represent tasks and allows teams to track progress and collaborate in real-time. Trello is known for its simplicity and ease of use.<br>- Monday.com: Monday.com is a work operating system that helps teams manage their projects, tasks, and workflows. It offers features such as customizable dashboards, automation, and integrations with other tools. Monday.com is recognized for its visual and intuitive interface.<br>- Smartsheet: Smartsheet is a collaborative work management platform that helps teams plan, track, automate, and report on their work. It offers features such as project management, resource management, and collaboration tools. Smartsheet is known for its flexibility and ability to handle complex workflows.<br>- ClickUp: ClickUp is a productivity platform that helps teams manage their tasks, projects, and goals. It offers features such as task management, project tracking, and team collaboration. ClickUp is popular for its customizable interface and wide range of integrations.<br>- Wrike: Wrike is a project management software that helps teams plan, track, and collaborate on their work. It offers features such as task management, project timelines, and team communication. Wrike is known for its user-friendly interface and robust project management capabilities.<br>- Basecamp: Basecamp is a project management and team communication tool that helps teams stay organized and collaborate effectively. It offers features such as task management, file sharing, and team messaging. Basecamp is recognized for its simplicity and focus on communication.<br>- Jira: Jira is a project management tool that helps teams plan, track, and release software. It offers features such as issue tracking, agile boards, and team collaboration. Jira is popular among software development teams for its powerful project management capabilities.<br>- Slack: Slack is a team communication platform that helps teams collaborate and communicate in real-time. It offers features such as channels, direct messaging, and file sharing. Slack is known for its ease of use and integrations with other tools.<br>- Microsoft Teams: Microsoft Teams is a collaboration platform that helps teams communicate, collaborate, and organize their work. It offers features such as chat, video meetings, and file sharing. Microsoft Teams is popular among organizations that use other Microsoft products.<br>- Google Workspace: Google Workspace is a suite of productivity tools that helps teams collaborate and communicate. It offers features such as email, document editing, and file storage. Google Workspace is known for its cloud-based approach and seamless integration with other Google services.<br><br>Airtable is a platform that enables teams to create apps on top of shared data and power their workflows. The company was founded in 2013 and has offices in six locations around the world. Airtable has been trusted by the world's largest organizations and has received over $1.36 billion in funding. They have won several awards, including Forbes Cloud 100 and CNBC Disruptor 50. The leadership team includes Howie Liu as CEO, Andrew Ofstad as the voice of the customer, Emmett Nicholas as the senior engineering leader, Archana Agrawal as the head of marketing, and Ambereen Toubassy as the leader of finance and legal teams. Airtable serves over 450,000 organizations globally with a team of 900 employees.<br>\""
      ]
     },
     "execution_count": 29,
     "metadata": {},
     "output_type": "execute_result"
    }
   ],
   "source": [
    "# retrieve company summary to read\n",
    "import pickle\n",
    "with open(\"test_data/airtable_company_summary.pickle\", \"rb\") as f:\n",
    "    company_summary = pickle.load(f)\n",
    "company_summary"
   ]
  },
  {
   "cell_type": "code",
   "execution_count": null,
   "metadata": {},
   "outputs": [],
   "source": []
  }
 ],
 "metadata": {
  "kernelspec": {
   "display_name": "venv",
   "language": "python",
   "name": "python3"
  },
  "language_info": {
   "codemirror_mode": {
    "name": "ipython",
    "version": 3
   },
   "file_extension": ".py",
   "mimetype": "text/x-python",
   "name": "python",
   "nbconvert_exporter": "python",
   "pygments_lexer": "ipython3",
   "version": "3.8.10"
  },
  "orig_nbformat": 4
 },
 "nbformat": 4,
 "nbformat_minor": 2
}
