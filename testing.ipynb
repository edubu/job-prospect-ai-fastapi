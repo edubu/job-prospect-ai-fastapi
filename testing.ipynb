{
 "cells": [
  {
   "cell_type": "code",
   "execution_count": 12,
   "metadata": {},
   "outputs": [],
   "source": [
    "import pickle"
   ]
  },
  {
   "cell_type": "code",
   "execution_count": 17,
   "metadata": {},
   "outputs": [
    {
     "data": {
      "text/plain": [
       "'Strategic HR teams use Airtable to create high performing teams\\nStreamline new hire onboarding\\nKeep your team aligned throughout the hiring process\\nCreate a single source of truth for your HR policies\\nGet a full picture of your organization\\nBring all the data you need into one place\\nManage your most important HR workflows\\nSpend less time coordinating, and more time growing your team\\nApplicant tracker\\nEmployee Onboarding\\nHR Knowledge Base\\nCompany Org Chart\\nTransform your workflows with the power of AI\\nManage recruiting pipeline, streamline your onboarding processes, and keep your team aligned as your company grows.\\nCreate a standard process for onboarding to ensure new employees are set up for success - and easily adapt your process as your org matures.\\nEasily collaborate on hiring plans, interview needs, and more to attract and hire top talent.\\nEasily organize and update all your HR info and resources in one place, so your team can find what they need when they need it.\\nVisualize your org chart and people data to keep your entire company connected and adapt quickly as your team grows and changes.\\nIntegrate with existing tools, add apps to gain valuable insights, and write your own scripts to further customize your workflow.\\nAnalytics\\nCustomer Support\\nCRM\\nOrchestrate everything from your candidate pipeline to your new hire onboarding from Airtable. Get started with pre-made templates, and customize them to fit your exact needs.\\nApplicant tracker\\nUse template\\nEmployee Onboarding\\nUse template\\nHR Knowledge Base\\nUse template\\nCompany Org Chart\\nUse template\\nPlatform\\nSolutions\\nResources\\nPricing\\nContact Sales\\nPlatform\\nPlatform Overview\\nIntegrations\\nExtensions\\nApp Building\\nAI\\nConnected Data\\nSee more\\nSolutions\\nProduct\\nMarketing\\nOperations\\nHuman Resources\\nSales\\nFinance\\nSee more\\nLearn\\nLearning Center\\nEvents\\nVideo Center\\nDemos\\nCustomer Stories\\nWebinars\\nSee more\\nResources\\nPartners\\nServices\\nDevelopers\\nCommunity\\nTemplates\\nAirtable Universe\\nSee more\\nCompany\\nAbout\\nCareers\\nPOPULAR\\nBlog\\nStatus\\nNewsroom\\nTry Airtable for free\\nSecurity\\nAPI\\nSitemap\\nPrivacy\\nTerms\\nDo Not Sell/Share My Info'"
      ]
     },
     "execution_count": 17,
     "metadata": {},
     "output_type": "execute_result"
    }
   ],
   "source": [
    "def get_pages(filepath):\n",
    "    with open(filepath, 'rb') as f:\n",
    "        return pickle.load(f)\n",
    "get_pages('test_data/airtable_content.pickle')[0].bodyContent"
   ]
  },
  {
   "cell_type": "code",
   "execution_count": 7,
   "metadata": {},
   "outputs": [],
   "source": [
    "from typing import List\n",
    "\n",
    "from config import OPENAI_API_KEY\n",
    "from langchain.chains import LLMChain\n",
    "from langchain.chat_models import ChatOpenAI\n",
    "from langchain.output_parsers import PydanticOutputParser\n",
    "from langchain.prompts import PromptTemplate\n",
    "from langchain.prompts.chat import (\n",
    "    AIMessagePromptTemplate,\n",
    "    ChatPromptTemplate,\n",
    "    HumanMessagePromptTemplate,\n",
    "    SystemMessagePromptTemplate,\n",
    ")\n",
    "from langchain.pydantic_v1 import BaseModel, Field, validator"
   ]
  },
  {
   "cell_type": "code",
   "execution_count": 8,
   "metadata": {},
   "outputs": [],
   "source": [
    "# Output data structure\n",
    "class PageSummary(BaseModel):\n",
    "    summary: str = Field(description=\"The summary of the page in 2-3 paragraphs\")\n",
    "    sections: List[str] = Field(description=\"The sections that this page is useful for\")\n"
   ]
  },
  {
   "cell_type": "code",
   "execution_count": 9,
   "metadata": {},
   "outputs": [],
   "source": [
    "# output parser\n",
    "parser = PydanticOutputParser(pydantic_object=PageSummary)"
   ]
  },
  {
   "cell_type": "code",
   "execution_count": 10,
   "metadata": {},
   "outputs": [],
   "source": [
    "# Prompt Templates\n",
    "SUMMARIZE_SYSTEM_TEMPLATE = \"You are a page summarizer assitant. You take text extracted from a web page and summarize the information on the web page. You also decide which sections of company summary this page will be useful for.\"\n",
    "SUMMARIZE_HUMAN_TEMPLATE = \"\"\"\\\n",
    "You are a text summarization bot.\n",
    "Below is the text scraped from ${page_url}.\n",
    "{page_text}\n",
    "\n",
    "Summarize this text to fit within 2 paragraphs. Summarize the details that are most important based upon the url. \n",
    "As Examples:\n",
    "- if you are summarizing a url of https://epic.com/solutions/eletronic-health-records, your summary will be explaining the solution of electronic health records that the company epic provides.\n",
    "- if you are summarizing a url of https://www.athenahealth.com/careers/locations, your summary will include a bulleted list of the locations that the company athenahealth has offices in.\n",
    "- if you are summarizing a url of https://www.athenahealth.com/about/who-we-are, your summary will include facts and details about the company athenhealth. Such as when it was founded, their culture, etc.\n",
    "\n",
    "In addition you should decide which sections of company summary this page will be useful for.\n",
    "Choose from the following sections:\n",
    "- Company Summary\n",
    "- Company History\n",
    "- Products and Services\n",
    "- Business Model\n",
    "- Target Audience\n",
    "- Key Competitors\n",
    "- Contact Information and Company Details\\n\n",
    "{format_instructions}\\n\n",
    "\"\"\"\n",
    "\n",
    "# Prompts\n",
    "system_prompt_template = SystemMessagePromptTemplate.from_template(\n",
    "    SUMMARIZE_SYSTEM_TEMPLATE\n",
    ")\n",
    "human_prompt_template_original = PromptTemplate(\n",
    "    template=SUMMARIZE_HUMAN_TEMPLATE,\n",
    "    input_variables=[\"page_url\", \"page_text\"],\n",
    "    partial_variables={\"format_instructions\": parser.get_format_instructions()},\n",
    ")\n",
    "human_prompt_template = HumanMessagePromptTemplate(\n",
    "    prompt=human_prompt_template_original\n",
    ")\n",
    "chat_prompt = ChatPromptTemplate.from_messages(\n",
    "    [system_prompt_template, human_prompt_template]\n",
    ")"
   ]
  },
  {
   "cell_type": "code",
   "execution_count": 13,
   "metadata": {},
   "outputs": [],
   "source": [
    "# LlMs\n",
    "llm = ChatOpenAI(\n",
    "    openai_api_key=OPENAI_API_KEY, model_name=\"gpt-3.5-turbo-16k\", temperature=0.3\n",
    ")\n",
    "\n",
    "# Chains\n",
    "summarize_chain = LLMChain(llm=llm, prompt=chat_prompt, output_parser=parser)"
   ]
  },
  {
   "cell_type": "code",
   "execution_count": 18,
   "metadata": {},
   "outputs": [
    {
     "data": {
      "text/plain": [
       "PageSummary(summary='Airtable is a platform that allows users to build apps for various workflows. It offers integrations, AI capabilities, and customizable workflows. The platform aims to connect different parts of work and enable teams to work faster and more confidently. Airtable is used by over 450,000 organizations and has been praised for its ability to increase productivity.', sections=['Company Summary', 'Products and Services', 'Business Model', 'Target Audience'])"
      ]
     },
     "execution_count": 18,
     "metadata": {},
     "output_type": "execute_result"
    }
   ],
   "source": [
    "pages = get_pages('test_data/airtable_content.pickle')\n",
    "mainPage = pages[-1]\n",
    "\n",
    "mainPageSummary = summarize_chain.run(page_url=mainPage.url, page_text=mainPage.bodyContent)\n",
    "mainPageSummary"
   ]
  },
  {
   "cell_type": "code",
   "execution_count": 20,
   "metadata": {},
   "outputs": [
    {
     "data": {
      "text/plain": [
       "'Airtable is a platform that allows users to build apps for various workflows. It offers integrations, AI capabilities, and customizable workflows. The platform aims to connect different parts of work and enable teams to work faster and more confidently. Airtable is used by over 450,000 organizations and has been praised for its ability to increase productivity.'"
      ]
     },
     "execution_count": 20,
     "metadata": {},
     "output_type": "execute_result"
    }
   ],
   "source": [
    "mainPageSummary.summary"
   ]
  },
  {
   "cell_type": "code",
   "execution_count": null,
   "metadata": {},
   "outputs": [],
   "source": []
  }
 ],
 "metadata": {
  "kernelspec": {
   "display_name": "venv",
   "language": "python",
   "name": "python3"
  },
  "language_info": {
   "codemirror_mode": {
    "name": "ipython",
    "version": 3
   },
   "file_extension": ".py",
   "mimetype": "text/x-python",
   "name": "python",
   "nbconvert_exporter": "python",
   "pygments_lexer": "ipython3",
   "version": "3.8.10"
  },
  "orig_nbformat": 4
 },
 "nbformat": 4,
 "nbformat_minor": 2
}
